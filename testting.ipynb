{
 "cells": [
  {
   "cell_type": "code",
   "execution_count": 1,
   "metadata": {},
   "outputs": [],
   "source": [
    "import pandas as pd\n",
    "from sklearn.model_selection import train_test_split\n",
    "from sklearn.preprocessing import StandardScaler\n",
    "import tensorflow as tf\n",
    "from tensorflow.keras.models import Sequential\n",
    "from tensorflow.keras.layers import Dense\n",
    "from tensorflow.keras.models import load_model\n",
    "from tensorflow.keras.optimizers import Adam\n",
    "from tensorflow.keras.callbacks import EarlyStopping\n",
    "from sklearn.metrics import mean_squared_error, r2_score\n",
    "import numpy as np\n",
    "import matplotlib.pyplot as plt\n",
    "import seaborn as sns"
   ]
  },
  {
   "cell_type": "code",
   "execution_count": 2,
   "metadata": {},
   "outputs": [
    {
     "name": "stderr",
     "output_type": "stream",
     "text": [
      "d:\\programming\\projects\\pavement-prediction\\.pave\\Lib\\site-packages\\keras\\src\\saving\\saving_lib.py:713: UserWarning: Skipping variable loading for optimizer 'rmsprop', because it has 10 variables whereas the saved optimizer has 18 variables. \n",
      "  saveable.load_own_variables(weights_store.get(inner_path))\n"
     ]
    }
   ],
   "source": [
    "model = load_model('pavement_model-test-1.keras')"
   ]
  },
  {
   "cell_type": "code",
   "execution_count": 3,
   "metadata": {},
   "outputs": [],
   "source": [
    "df = pd.read_csv('pavement_data_2018.csv')"
   ]
  },
  {
   "cell_type": "code",
   "execution_count": 5,
   "metadata": {},
   "outputs": [],
   "source": [
    "X = df.drop(columns=['PCI (%)', 'Section' , 'Potholes (number)','Delamination (m²)'])\n",
    "y = df['PCI (%)']\n",
    "scaler = StandardScaler()\n",
    "X = scaler.fit_transform(X)"
   ]
  },
  {
   "cell_type": "code",
   "execution_count": 12,
   "metadata": {},
   "outputs": [
    {
     "name": "stdout",
     "output_type": "stream",
     "text": [
      "\u001b[1m2/2\u001b[0m \u001b[32m━━━━━━━━━━━━━━━━━━━━\u001b[0m\u001b[37m\u001b[0m \u001b[1m0s\u001b[0m 4ms/step - loss: 239.4832 - mean_absolute_error: 8.5766 \n"
     ]
    }
   ],
   "source": [
    "loss , mae = model.evaluate(X, y, verbose=1)"
   ]
  },
  {
   "cell_type": "code",
   "execution_count": 26,
   "metadata": {},
   "outputs": [
    {
     "name": "stdout",
     "output_type": "stream",
     "text": [
      "\u001b[1m2/2\u001b[0m \u001b[32m━━━━━━━━━━━━━━━━━━━━\u001b[0m\u001b[37m\u001b[0m \u001b[1m0s\u001b[0m 8ms/step \n",
      "[[47.858326]\n",
      " [85.15521 ]\n",
      " [47.24319 ]\n",
      " [30.27248 ]\n",
      " [53.709404]\n",
      " [57.47708 ]\n",
      " [45.291855]\n",
      " [43.980774]\n",
      " [37.279655]\n",
      " [45.394966]\n",
      " [36.868893]\n",
      " [44.042072]\n",
      " [48.99629 ]\n",
      " [38.30989 ]\n",
      " [42.793995]\n",
      " [46.301907]\n",
      " [45.870476]\n",
      " [39.262146]\n",
      " [49.533012]\n",
      " [39.208008]\n",
      " [55.808777]\n",
      " [36.696476]\n",
      " [41.058743]\n",
      " [38.884468]\n",
      " [38.198833]\n",
      " [50.947742]\n",
      " [43.99263 ]\n",
      " [38.792355]\n",
      " [55.370247]\n",
      " [42.97471 ]\n",
      " [39.219017]\n",
      " [41.60211 ]\n",
      " [38.953125]\n",
      " [40.917664]\n",
      " [40.159172]\n",
      " [43.52384 ]\n",
      " [40.013435]]\n",
      "0     20\n",
      "1     12\n",
      "2     24\n",
      "3     30\n",
      "4     75\n",
      "5     50\n",
      "6     40\n",
      "7     35\n",
      "8     28\n",
      "9     45\n",
      "10    38\n",
      "11    55\n",
      "12    46\n",
      "13    39\n",
      "14    27\n",
      "15    53\n",
      "16    44\n",
      "17    41\n",
      "18    36\n",
      "19    42\n",
      "20    49\n",
      "21    37\n",
      "22    43\n",
      "23    48\n",
      "24    34\n",
      "25    50\n",
      "26    52\n",
      "27    47\n",
      "28    54\n",
      "29    35\n",
      "30    45\n",
      "31    40\n",
      "32    33\n",
      "33    44\n",
      "34    39\n",
      "35    48\n",
      "36    41\n",
      "Name: PCI (%), dtype: int64\n",
      "Mean Absolute Error: 8.307056427001953\n",
      "Mean Squared Error: 228.2938995361328\n",
      "R2 Score: -0.8655200004577637\n"
     ]
    }
   ],
   "source": [
    "out = model.predict(X)\n",
    "print(out)\n",
    "print(y)\n",
    "print('Mean Absolute Error:', mae)\n",
    "print('Mean Squared Error:', loss)\n",
    "print('R2 Score:', r2_score(y, out))\n"
   ]
  },
  {
   "cell_type": "code",
   "execution_count": 27,
   "metadata": {},
   "outputs": [
    {
     "name": "stdout",
     "output_type": "stream",
     "text": [
      "loss:  228.2938995361328\n",
      "mae:  8.307056427001953\n"
     ]
    }
   ],
   "source": [
    "print(\"loss: \", loss)\n",
    "print(\"mae: \", mae)\n"
   ]
  },
  {
   "cell_type": "code",
   "execution_count": 25,
   "metadata": {},
   "outputs": [
    {
     "name": "stdout",
     "output_type": "stream",
     "text": [
      "\u001b[1m2/2\u001b[0m \u001b[32m━━━━━━━━━━━━━━━━━━━━\u001b[0m\u001b[37m\u001b[0m \u001b[1m0s\u001b[0m 6ms/step \n"
     ]
    },
    {
     "data": {
      "image/png": "[encoded data removed]",
      "text/plain": [
       "<Figure size 640x480 with 1 Axes>"
      ]
     },
     "metadata": {},
     "output_type": "display_data"
    }
   ],
   "source": [
    "plt.plot(y, model.predict(X), 'o')\n",
    "plt.plot([0, 100], [0, 100], 'r')\n",
    "plt.show()\n"
   ]
  }
 ],
 "metadata": {
  "kernelspec": {
   "display_name": ".pave",
   "language": "python",
   "name": "python3"
  },
  "language_info": {
   "codemirror_mode": {
    "name": "ipython",
    "version": 3
   },
   "file_extension": ".py",
   "mimetype": "text/x-python",
   "name": "python",
   "nbconvert_exporter": "python",
   "pygments_lexer": "ipython3",
   "version": "3.12.4"
  }
 },
 "nbformat": 4,
 "nbformat_minor": 2
}
