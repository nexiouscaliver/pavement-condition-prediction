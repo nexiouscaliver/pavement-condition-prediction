{
 "cells": [
  {
   "cell_type": "code",
   "execution_count": 4,
   "metadata": {},
   "outputs": [],
   "source": [
    "import pandas as pd\n",
    "from sklearn.model_selection import train_test_split\n",
    "from sklearn.preprocessing import StandardScaler\n",
    "import tensorflow as tf\n",
    "from tensorflow.keras.models import Sequential\n",
    "from tensorflow.keras.layers import Dense\n",
    "from tensorflow.keras.models import load_model\n",
    "from tensorflow.keras.optimizers import Adam\n",
    "from tensorflow.keras.callbacks import EarlyStopping\n",
    "from sklearn.metrics import mean_squared_error, r2_score\n",
    "from sklearn.preprocessing import MinMaxScaler, LabelEncoder\n",
    "import numpy as np\n",
    "import matplotlib.pyplot as plt\n",
    "import seaborn as sns"
   ]
  },
  {
   "cell_type": "code",
   "execution_count": 2,
   "metadata": {},
   "outputs": [],
   "source": [
    "model = load_model(r'models/multiper-L006-MAE077-simple-002.keras')"
   ]
  },
  {
   "cell_type": "code",
   "execution_count": 3,
   "metadata": {},
   "outputs": [],
   "source": [
    "# df = pd.read_csv('pavement_data_2018.csv')\n",
    "df = pd.read_csv(r'datasets/road_pavement_extended_dataset.csv')"
   ]
  },
  {
   "cell_type": "code",
   "execution_count": 9,
   "metadata": {},
   "outputs": [],
   "source": [
    "# X = df.drop(columns=['PCI (%)', 'Section' , 'Potholes (number)','Delamination (m²)'])\n",
    "# y = df['PCI (%)']\n",
    "# scaler = StandardScaler()\n",
    "# X = scaler.fit_transform(X)\n",
    "\n",
    "#test cols : PCI,Rutting_mm,Fatigue_Cracking_m2,Block_Cracking_m2,Longitudinal_Cracking_m2,\n",
    "# Transverse_Cracking_m2,Patching_m2,Potholes_Num,Delamination_m2,Severity_Rating,Traffic_Volume,Temperature_C,Precipitation_mm,Maintenance_History\n",
    "\n",
    "label_encoder = LabelEncoder()\n",
    "label_encoder.fit([\"Low\", \"Medium\", \"High\"])\n",
    "df['Severity_Rating'] = label_encoder.fit_transform(df['Severity_Rating'])\n",
    "label_encoder2 = LabelEncoder()\n",
    "label_encoder2.fit([\"None\", \"Minor repairs\", \"Major repairs\"])\n",
    "df['Maintenance_History'] = label_encoder2.fit_transform(df['Maintenance_History'])\n",
    "scaler = MinMaxScaler()\n",
    "numeric_columns = ['Rutting_mm', 'Fatigue_Cracking_m2', 'Block_Cracking_m2', \n",
    "                   'Longitudinal_Cracking_m2', 'Transverse_Cracking_m2', \n",
    "                   'Patching_m2', 'Potholes_Num', 'Delamination_m2', \n",
    "                   'Traffic_Volume', 'Temperature_C', 'Precipitation_mm','Severity_Rating','Maintenance_History','PCI']\n",
    "df[numeric_columns] = scaler.fit_transform(df[numeric_columns])\n",
    "# print(df)\n",
    "\n",
    "X = df.drop(columns=['PCI'])\n",
    "y = df['PCI']"
   ]
  },
  {
   "cell_type": "code",
   "execution_count": 10,
   "metadata": {},
   "outputs": [
    {
     "name": "stdout",
     "output_type": "stream",
     "text": [
      "\u001b[1m1/1\u001b[0m \u001b[32m━━━━━━━━━━━━━━━━━━━━\u001b[0m\u001b[37m\u001b[0m \u001b[1m0s\u001b[0m 39ms/step - loss: 0.2943 - mae: 0.4827\n"
     ]
    }
   ],
   "source": [
    "loss , mae = model.evaluate(X, y, verbose=1)"
   ]
  },
  {
   "cell_type": "code",
   "execution_count": 11,
   "metadata": {},
   "outputs": [
    {
     "name": "stdout",
     "output_type": "stream",
     "text": [
      "\u001b[1m1/1\u001b[0m \u001b[32m━━━━━━━━━━━━━━━━━━━━\u001b[0m\u001b[37m\u001b[0m \u001b[1m0s\u001b[0m 71ms/step\n",
      "[[0.40809956]\n",
      " [0.3602041 ]\n",
      " [1.1541495 ]\n",
      " [0.93870354]\n",
      " [0.9412769 ]\n",
      " [0.88564336]\n",
      " [0.96985626]\n",
      " [0.4516114 ]\n",
      " [1.0821617 ]\n",
      " [0.59824944]\n",
      " [0.7064132 ]\n",
      " [1.0198511 ]\n",
      " [0.42047065]\n",
      " [0.23179887]\n",
      " [1.0432264 ]\n",
      " [1.2247839 ]\n",
      " [0.6539532 ]\n",
      " [0.7105969 ]\n",
      " [0.8274447 ]\n",
      " [1.1038375 ]\n",
      " [0.6762743 ]\n",
      " [0.89603055]\n",
      " [0.98326004]\n",
      " [1.1491566 ]]\n",
      "0     0.102564\n",
      "1     0.000000\n",
      "2     0.376923\n",
      "3     0.405128\n",
      "4     0.487179\n",
      "5     0.615385\n",
      "6     0.230769\n",
      "7     0.743590\n",
      "8     0.551282\n",
      "9     0.679487\n",
      "10    0.358974\n",
      "11    0.423077\n",
      "12    0.871795\n",
      "13    0.935897\n",
      "14    0.294872\n",
      "15    0.166667\n",
      "16    1.000000\n",
      "17    0.807692\n",
      "18    0.512821\n",
      "19    0.641026\n",
      "20    0.461538\n",
      "21    0.589744\n",
      "22    0.333333\n",
      "23    0.205128\n",
      "Name: PCI, dtype: float64\n",
      "Mean Absolute Error: 0.48273932933807373\n",
      "Mean Squared Error: 0.2942868769168854\n",
      "R2 Score: -3.3958546938447\n"
     ]
    }
   ],
   "source": [
    "out = model.predict(X)\n",
    "print(out)\n",
    "print(y)\n",
    "print('Mean Absolute Error:', mae)\n",
    "print('Mean Squared Error:', loss)\n",
    "print('R2 Score:', r2_score(y, out))\n"
   ]
  },
  {
   "cell_type": "code",
   "execution_count": 12,
   "metadata": {},
   "outputs": [
    {
     "name": "stdout",
     "output_type": "stream",
     "text": [
      "loss:  0.2942868769168854\n",
      "mae:  0.48273932933807373\n"
     ]
    }
   ],
   "source": [
    "print(\"loss: \", loss)\n",
    "print(\"mae: \", mae)\n"
   ]
  },
  {
   "cell_type": "code",
   "execution_count": 15,
   "metadata": {},
   "outputs": [
    {
     "name": "stdout",
     "output_type": "stream",
     "text": [
      "\u001b[1m1/1\u001b[0m \u001b[32m━━━━━━━━━━━━━━━━━━━━\u001b[0m\u001b[37m\u001b[0m \u001b[1m0s\u001b[0m 29ms/step\n"
     ]
    },
    {
     "data": {
      "image/png": "[encoded data removed]",
      "text/plain": [
       "<Figure size 640x480 with 1 Axes>"
      ]
     },
     "metadata": {},
     "output_type": "display_data"
    }
   ],
   "source": [
    "plt.plot(model.predict(X),y, 'o')\n",
    "plt.plot([0, 1], [0, 1], 'r')\n",
    "plt.show()\n"
   ]
  }
 ],
 "metadata": {
  "kernelspec": {
   "display_name": ".pave",
   "language": "python",
   "name": "python3"
  },
  "language_info": {
   "codemirror_mode": {
    "name": "ipython",
    "version": 3
   },
   "file_extension": ".py",
   "mimetype": "text/x-python",
   "name": "python",
   "nbconvert_exporter": "python",
   "pygments_lexer": "ipython3",
   "version": "3.12.4"
  }
 },
 "nbformat": 4,
 "nbformat_minor": 2
}
