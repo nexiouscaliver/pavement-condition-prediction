{
 "cells": [
  {
   "cell_type": "code",
   "execution_count": 22,
   "metadata": {},
   "outputs": [],
   "source": [
    "import pandas as pd\n",
    "from catboost import CatBoostRegressor\n",
    "from sklearn.metrics import mean_squared_error\n",
    "import numpy as np\n",
    "from sklearn.preprocessing import MinMaxScaler, LabelEncoder\n",
    "from sklearn.model_selection import train_test_split\n",
    "from sklearn.utils import shuffle\n",
    "\n",
    "input_df = pd.read_csv(r'../datasets/input_df.csv')\n",
    "# print(input_df)\n"
   ]
  },
  {
   "cell_type": "code",
   "execution_count": 25,
   "metadata": {},
   "outputs": [
    {
     "name": "stdout",
     "output_type": "stream",
     "text": [
      "     Rutting (mm)  Fatigue_Cracking (m²)  Block_Cracking (m²)  \\\n",
      "4.8           2.0                    0.0                 26.0   \n",
      "\n",
      "     Longitudinal_Cracking (m²)  Transverse_Cracking (m²)  Patching (m²)  \\\n",
      "4.8                         0.0                     118.0              5   \n",
      "\n",
      "     Potholes (Number)  Delamination (m²)  Severity_Rating  \\\n",
      "4.8               18.0               20.0                0   \n",
      "\n",
      "     Traffic_Volume (vehicles/day)  Temperature_C  Precipitation_mm  \\\n",
      "4.8                           8600           10.5             120.0   \n",
      "\n",
      "     Maintenance_History  \n",
      "4.8                    0  \n"
     ]
    }
   ],
   "source": [
    "print(input_df)"
   ]
  },
  {
   "cell_type": "code",
   "execution_count": 24,
   "metadata": {},
   "outputs": [],
   "source": [
    "\n",
    "label_encoder = LabelEncoder()\n",
    "label_encoder.fit([\"Low\", \"Medium\", \"High\"])\n",
    "input_df['Severity_Rating'] = label_encoder.fit_transform(input_df['Severity_Rating'])\n",
    "label_encoder2 = LabelEncoder()\n",
    "label_encoder2.fit([\"None\", \"Minor repairs\", \"Major repairs\"])\n",
    "input_df['Maintenance_History'] = label_encoder2.fit_transform(input_df['Maintenance_History'])\n"
   ]
  },
  {
   "cell_type": "code",
   "execution_count": 38,
   "metadata": {},
   "outputs": [
    {
     "name": "stdout",
     "output_type": "stream",
     "text": [
      "[[0. 0. 0. 0. 0. 0. 0. 0. 0. 0. 0. 0. 0.]]\n"
     ]
    }
   ],
   "source": [
    "scaler = MinMaxScaler()\n",
    "numeric_columns = ['Rutting (mm)', 'Fatigue_Cracking (m²)', 'Block_Cracking (m²)', \n",
    "                   'Longitudinal_Cracking (m²)', 'Transverse_Cracking (m²)', \n",
    "                   'Patching (m²)', 'Potholes (Number)', 'Delamination (m²)', \n",
    "                   'Traffic_Volume (vehicles/day)', 'Temperature_C', 'Precipitation_mm','Severity_Rating','Maintenance_History']\n",
    "\n",
    "# input_df[numeric_columns] = scaler.fit_transform(input_df[numeric_columns])\n",
    "\n",
    "# print((input_df[numeric_columns]))\n",
    "# for i in input_df:\n",
    "#     print(input_df[i])\n",
    "# print(input_df)\n",
    "print(scaler.fit_transform(input_df[numeric_columns]))\n",
    "# print(scaler.min_)\n",
    "# print(scaler)\n",
    "# input_df[numeric_columns] = scaler.transform(input_df[numeric_columns])\n",
    "# print(scaler.transform(input_df[numeric_columns]))"
   ]
  },
  {
   "cell_type": "code",
   "execution_count": null,
   "metadata": {},
   "outputs": [],
   "source": []
  }
 ],
 "metadata": {
  "kernelspec": {
   "display_name": ".pave",
   "language": "python",
   "name": "python3"
  },
  "language_info": {
   "codemirror_mode": {
    "name": "ipython",
    "version": 3
   },
   "file_extension": ".py",
   "mimetype": "text/x-python",
   "name": "python",
   "nbconvert_exporter": "python",
   "pygments_lexer": "ipython3",
   "version": "3.12.4"
  }
 },
 "nbformat": 4,
 "nbformat_minor": 2
}
