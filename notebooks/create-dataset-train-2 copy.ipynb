{
 "cells": [
  {
   "cell_type": "markdown",
   "metadata": {},
   "source": [
    "## Notes:\n",
    "##### Rutting (mm): Values typically range from 2.0 to 35.0 mm.\n",
    "##### Fatigue Cracking (m²): Values typically range from 0.0 to 8.0 m².\n",
    "##### Block Cracking (m²): Values typically range from 0.0 to 5.0 m².\n",
    "##### Longitudinal Cracking (m²): Values typically range from 6.2 to 47.5 m².\n",
    "##### Transverse Cracking (m²): Values typically range from 0.0 to 33.0 m²."
   ]
  },
  {
   "cell_type": "code",
   "execution_count": null,
   "metadata": {},
   "outputs": [],
   "source": [
    "pci_data_1 = {\n",
    "    \"Rutting (mm)\": [\n",
    "        4.8, 4.4, 8.7, 7.2, 3.0, 2.8, 5.6, 6.2, 8.1, 3.9,\n",
    "        6.5, 7.0, 4.2, 5.1, 6.0, 3.5, 2.7, 8.9, 7.4, 6.8,\n",
    "        5.5, 4.6, 6.9, 7.3, 3.7, 4.3, 7.6, 5.4, 4.9, 6.3,\n",
    "        7.7, 5.2, 3.4, 7.1, 4.7, 8.3, 6.6, 5.0, 7.8, 6.1,\n",
    "        4.5, 5.7, 6.4, 7.9, 3.8, 8.2, 7.5, 4.1, 6.7, 5.8\n",
    "    ],\n",
    "    \"Fatigue_Cracking (m²)\": [\n",
    "        2.0, 1.5, 2.1, 2.0, 2.4, 1.8, 1.9, 2.3, 2.2, 1.7,\n",
    "        2.5, 2.2, 1.6, 2.1, 2.3, 2.0, 1.4, 2.8, 2.7, 1.9,\n",
    "        2.6, 2.0, 2.4, 1.8, 2.9, 2.1, 2.5, 2.0, 1.6, 2.7,\n",
    "        2.4, 1.9, 2.8, 2.0, 2.6, 1.7, 2.3, 2.2, 2.5, 1.8,\n",
    "        2.9, 2.1, 1.7, 2.6, 2.3, 2.8, 2.4, 1.9, 2.5, 2.7\n",
    "    ],\n",
    "    \"Block_Cracking (m²)\": [\n",
    "        0.0, 0.0, 0.9, 1.0, 0.6, 0.5, 0.4, 0.7, 0.8, 0.3,\n",
    "        0.9, 0.6, 0.7, 0.5, 0.4, 0.8, 0.3, 0.2, 0.9, 0.6,\n",
    "        0.4, 0.5, 0.3, 0.7, 0.6, 0.4, 0.8, 0.3, 0.5, 0.9,\n",
    "        0.2, 0.4, 0.7, 0.6, 0.8, 0.3, 0.5, 0.4, 0.7, 0.2,\n",
    "        0.6, 0.3, 0.4, 0.8, 0.5, 0.7, 0.6, 0.9, 0.3, 0.2\n",
    "    ],\n",
    "    \"Longitudinal_Cracking (m²)\": [\n",
    "        26.0, 22.0, 18.8, 17.5, 16.0, 15.0, 19.0, 20.5, 21.8, 18.2,\n",
    "        24.0, 20.1, 19.5, 18.3, 17.8, 16.5, 15.2, 21.4, 23.0, 19.7,\n",
    "        22.5, 20.9, 18.6, 17.4, 23.7, 19.8, 21.0, 22.2, 18.9, 20.5,\n",
    "        19.3, 21.8, 23.6, 17.9, 19.6, 21.3, 20.8, 22.1, 23.4, 19.1,\n",
    "        20.6, 22.7, 18.5, 23.9, 21.2, 19.4, 22.9, 21.6, 18.4, 19.9\n",
    "    ],\n",
    "    \"Transverse_Cracking (m²)\": [\n",
    "        0.0, 0.0, 5.0, 4.5, 3.2, 2.8, 4.0, 4.2, 3.9, 3.5,\n",
    "        5.1, 3.8, 4.6, 4.0, 2.9, 3.4, 4.7, 3.1, 4.8, 5.0,\n",
    "        3.7, 4.3, 3.5, 4.1, 4.4, 3.6, 4.9, 3.0, 3.4, 5.2,\n",
    "        3.9, 4.1, 5.3, 3.3, 3.7, 4.5, 5.1, 4.2, 4.6, 3.8,\n",
    "        4.9, 3.2, 4.7, 5.0, 3.5, 4.4, 5.2, 4.0, 3.6, 4.1\n",
    "    ]\n",
    "}\n",
    "\n",
    "# Output the dictionary\n",
    "print(pci_data_1)\n"
   ]
  },
  {
   "cell_type": "code",
   "execution_count": null,
   "metadata": {},
   "outputs": [],
   "source": [
    "pci_data_2 = {\n",
    "    \"Patching (m²)\": [\n",
    "        118.0, 96.0, 51.0, 48.0, 47.0, 44.0, 46.0, 45.0, 48.0, 50.0,\n",
    "        37.0, 48.2, 44.1, 42.5, 50.6, 49.8, 38.7, 43.6, 47.9, 39.4,\n",
    "        41.3, 45.7, 48.4, 49.2, 46.3, 39.8, 40.7, 50.3, 43.2, 42.1,\n",
    "        46.9, 47.4, 41.8, 48.5, 49.1, 43.9, 44.7, 50.1, 47.7, 39.6,\n",
    "        46.2, 45.5, 44.4, 50.4, 47.2, 49.7, 43.8, 40.9, 48.3, 41.5\n",
    "    ],\n",
    "    \"Potholes (Number)\": [\n",
    "        5, 7, 8, 6, 5, 4, 6, 7, 8, 6,\n",
    "        9, 10, 5, 7, 8, 11, 4, 6, 7, 5,\n",
    "        10, 7, 8, 6, 9, 7, 5, 8, 6, 10,\n",
    "        7, 9, 6, 5, 8, 7, 10, 11, 4, 9,\n",
    "        5, 8, 7, 6, 9, 10, 4, 8, 7, 9\n",
    "    ],\n",
    "    \"Delamination (m²)\": [\n",
    "        18.0, 13.5, 16.0, 15.5, 14.0, 13.0, 12.5, 14.0, 15.0, 13.5,\n",
    "        12.0, 14.6, 13.4, 15.1, 16.3, 12.7, 15.5, 14.9, 13.8, 16.2,\n",
    "        14.5, 15.7, 13.3, 12.9, 15.2, 14.1, 13.7, 15.4, 12.8, 16.0,\n",
    "        13.9, 14.8, 15.3, 13.2, 15.6, 14.4, 16.1, 12.6, 13.1, 14.3,\n",
    "        15.8, 13.6, 14.7, 16.4, 13.0, 12.5, 14.9, 13.4, 15.0, 14.2\n",
    "    ],\n",
    "    \"PCI (%)\": [\n",
    "        20, 12, 41.4, 36.2, 45.0, 40.0, 38.0, 42.0, 43.0, 39.0,\n",
    "        35.0, 47.5, 44.0, 38.5, 42.5, 45.6, 36.4, 41.7, 39.8, 44.3,\n",
    "        47.8, 43.5, 40.2, 38.7, 46.4, 37.9, 41.1, 43.6, 39.9, 44.7,\n",
    "        42.2, 46.0, 38.4, 45.9, 41.4, 39.5, 43.3, 47.2, 36.8, 44.5,\n",
    "        40.6, 42.9, 39.3, 45.8, 44.6, 43.2, 41.9, 36.5, 42.1, 45.1\n",
    "    ],\n",
    "    \"Severity_Rating\": [\n",
    "        \"Medium\", \"Low\", \"Medium\", \"High\", \"Low\", \"Medium\", \"Low\", \"Medium\", \"High\", \"Low\",\n",
    "        \"Medium\", \"High\", \"Low\", \"Medium\", \"High\", \"Medium\", \"Low\", \"High\", \"Medium\", \"Low\",\n",
    "        \"High\", \"Medium\", \"Low\", \"High\", \"Medium\", \"Low\", \"Medium\", \"High\", \"Low\", \"Medium\",\n",
    "        \"High\", \"Medium\", \"Low\", \"High\", \"Medium\", \"Low\", \"Medium\", \"High\", \"Low\", \"Medium\",\n",
    "        \"High\", \"Low\", \"Medium\", \"High\", \"Medium\", \"Low\", \"Medium\", \"High\", \"Low\", \"Medium\"\n",
    "    ]\n",
    "}\n",
    "\n",
    "# Output the dictionary\n",
    "print(pci_data_2)\n"
   ]
  },
  {
   "cell_type": "code",
   "execution_count": null,
   "metadata": {},
   "outputs": [],
   "source": [
    "pci_data_3 = {\n",
    "    \"Traffic_Volume (vehicles/day)\": [\n",
    "        8600, 3900, 3800, 3500, 7000, 4500, 2000, 1000, 1300, 8200,\n",
    "        3600, 1300, 2200, 1400, 1000, 1400, 1600, 1000, 1800, 2000,\n",
    "        3200, 2400, 5000, 2300, 1100, 1900, 3100, 2800, 2700, 3800,\n",
    "        2500, 1200, 1400, 1100, 4500, 900, 1800, 1600, 1700, 3000,\n",
    "        4200, 1000, 800, 2700, 3400, 3100, 3700, 1500, 3300, 2200\n",
    "    ],\n",
    "    \"Temperature_C\": [\n",
    "        10.5, 12.0, 14.8, 9.0, 7.2, 5.8, 11.3, 8.7, 13.2, 10.1,\n",
    "        15.0, 11.5, 10.8, 9.7, 6.2, 13.4, 12.3, 10.2, 7.9, 9.6,\n",
    "        12.7, 11.8, 8.1, 9.4, 12.9, 10.0, 8.3, 11.1, 9.2, 7.0,\n",
    "        14.5, 6.5, 11.0, 7.4, 12.6, 13.8, 9.8, 8.5, 14.2, 10.6,\n",
    "        13.6, 9.9, 12.1, 8.9, 11.4, 7.6, 14.0, 9.3, 8.2, 10.4\n",
    "    ],\n",
    "    \"Precipitation_mm\": [\n",
    "        120.0, 85.0, 95.0, 130.0, 110.0, 98.0, 105.0, 115.0, 90.0, 102.0,\n",
    "        100.0, 88.0, 94.0, 97.0, 92.0, 87.0, 110.0, 89.0, 96.0, 91.0,\n",
    "        104.0, 120.0, 80.0, 99.0, 108.0, 103.0, 106.0, 115.0, 87.0, 101.0,\n",
    "        97.0, 90.0, 95.0, 98.0, 100.0, 85.0, 99.0, 94.0, 89.0, 105.0,\n",
    "        92.0, 96.0, 107.0, 87.0, 103.0, 109.0, 91.0, 104.0, 110.0, 108.0\n",
    "    ],\n",
    "    \"Maintenance_History\": [\n",
    "        \"Minor repairs\", \"Major repairs\", \"None\", \"Major repairs\", \"Minor repairs\", \"None\", \"Major repairs\", \"None\", \"Minor repairs\", \"Major repairs\",\n",
    "        \"None\", \"Minor repairs\", \"Major repairs\", \"None\", \"Major repairs\", \"Minor repairs\", \"None\", \"Major repairs\", \"Minor repairs\", \"None\",\n",
    "        \"Minor repairs\", \"Major repairs\", \"None\", \"Minor repairs\", \"Major repairs\", \"None\", \"Minor repairs\", \"Major repairs\", \"None\", \"Minor repairs\",\n",
    "        \"None\", \"Minor repairs\", \"Major repairs\", \"None\", \"Minor repairs\", \"Major repairs\", \"None\", \"Minor repairs\", \"Major repairs\", \"None\",\n",
    "        \"Minor repairs\", \"Major repairs\", \"None\", \"Minor repairs\", \"Major repairs\", \"None\", \"Minor repairs\", \"Major repairs\", \"None\", \"Minor repairs\"\n",
    "    ]\n",
    "}\n",
    "\n",
    "# Output the dictionary\n",
    "print(pci_data_3)\n"
   ]
  },
  {
   "cell_type": "code",
   "execution_count": null,
   "metadata": {},
   "outputs": [],
   "source": [
    "final_pci_data = pci_data_1.copy()\n",
    "final_pci_data.update(pci_data_2)\n",
    "final_pci_data.update(pci_data_3)\n",
    "print(final_pci_data)"
   ]
  },
  {
   "cell_type": "code",
   "execution_count": null,
   "metadata": {},
   "outputs": [],
   "source": [
    "import pandas as pd\n",
    "\n",
    "df = pd.DataFrame(final_pci_data)\n",
    "df.to_csv(r'datasets/pci_data_50.csv', index=False)"
   ]
  },
  {
   "cell_type": "code",
   "execution_count": null,
   "metadata": {},
   "outputs": [],
   "source": [
    "from scipy import stats\n",
    "np.abs(stats.zscore(df)) > 3\n",
    "# df = df[(np.abs(stats.zscore(df)) < 3).all(axis=1)]"
   ]
  },
  {
   "cell_type": "code",
   "execution_count": null,
   "metadata": {},
   "outputs": [],
   "source": [
    "df = pd.get_dummies(df, columns=['Severity_Rating', 'Maintenance_History'])\n",
    "print(df)"
   ]
  },
  {
   "cell_type": "code",
   "execution_count": null,
   "metadata": {},
   "outputs": [],
   "source": [
    "#test\n",
    "import pandas as pd\n",
    "import numpy as np\n",
    "from sklearn.preprocessing import MinMaxScaler, LabelEncoder\n",
    "from sklearn.model_selection import train_test_split\n",
    "from sklearn.utils import shuffle\n",
    "df = pd.read_csv(r'datasets/test.csv')\n",
    "label_encoder = LabelEncoder()\n",
    "label_encoder.fit([\"Low\", \"Medium\", \"High\"])\n",
    "df['Severity_Rating'] = label_encoder.fit_transform(df['Severity_Rating'])\n",
    "label_encoder2 = LabelEncoder()\n",
    "label_encoder2.fit([\"None\", \"Minor repairs\", \"Major repairs\"])\n",
    "df['Maintenance_History'] = label_encoder2.fit_transform(df['Maintenance_History'])\n",
    "\n",
    "\n",
    "# df = pd.get_dummies(df, columns=['Severity_Rating', 'Maintenance_History'])\n",
    "# print(df)\n",
    "\n",
    "\n",
    "# print(df['Maintenance_History'],df['Severity_Rating'])\n",
    "# df['Severity_Rating'] = label_encoder.inverse_transform(df['Severity_Rating'])\n",
    "# df['Maintenance_History'] = label_encoder2.inverse_transform(df['Maintenance_History'])\n",
    "# print(df['Maintenance_History'],df['Severity_Rating'])\n",
    "# print(df.isnull().sum())\n",
    "# df.fillna(df.mean(), inplace=True)\n",
    "scaler = MinMaxScaler()\n",
    "numeric_columns = ['Rutting (mm)', 'Fatigue_Cracking (m²)', 'Block_Cracking (m²)', \n",
    "                   'Longitudinal_Cracking (m²)', 'Transverse_Cracking (m²)', \n",
    "                   'Patching (m²)', 'Potholes (Number)', 'Delamination (m²)', \n",
    "                   'Traffic_Volume (vehicles/day)', 'Temperature_C', 'Precipitation_mm','Severity_Rating','Maintenance_History']\n",
    "df[numeric_columns] = scaler.fit_transform(df[numeric_columns])\n",
    "# print(df)\n",
    "\n",
    "X = df.drop(columns=['PCI (%)'])\n",
    "y = df['PCI (%)']\n",
    "# print(y)\n",
    "\n",
    "X_train, X_temp, y_train, y_temp = train_test_split(X, y, test_size=0.3, random_state=42)  # 70% training\n",
    "X_val, X_test, y_val, y_test = train_test_split(X_temp, y_temp, test_size=0.5, random_state=42)  # 15% validation, 15% test\n",
    "X_train, y_train = shuffle(X_train, y_train, random_state=42)\n",
    "\n",
    "print(\"Training set shape:\", X_train.shape)\n",
    "print(\"Validation set shape:\", X_val.shape)\n",
    "print(\"Testing set shape:\", X_test.shape)\n",
    "# print(X_test)"
   ]
  },
  {
   "cell_type": "code",
   "execution_count": 59,
   "metadata": {},
   "outputs": [
    {
     "name": "stdout",
     "output_type": "stream",
     "text": [
      "Rutting (mm)                     0\n",
      "Fatigue_Cracking (m²)            0\n",
      "Block_Cracking (m²)              0\n",
      "Longitudinal_Cracking (m²)       0\n",
      "Transverse_Cracking (m²)         0\n",
      "Patching (m²)                    0\n",
      "Potholes (Number)                0\n",
      "Delamination (m²)                0\n",
      "PCI (%)                          0\n",
      "Severity_Rating                  0\n",
      "Traffic_Volume (vehicles/day)    0\n",
      "Temperature_C                    0\n",
      "Precipitation_mm                 0\n",
      "Maintenance_History              0\n",
      "dtype: int64\n",
      "Training set shape: (35, 13)\n",
      "Validation set shape: (7, 13)\n",
      "Testing set shape: (8, 13)\n"
     ]
    }
   ],
   "source": [
    "#preprocessing data\n",
    "import pandas as pd\n",
    "import numpy as np\n",
    "from sklearn.preprocessing import MinMaxScaler, LabelEncoder\n",
    "from sklearn.model_selection import train_test_split\n",
    "from sklearn.utils import shuffle\n",
    "\n",
    "# Load your dataset (assuming it's in a CSV file)\n",
    "df = pd.read_csv(r'datasets/pci_data_50.csv')\n",
    "# df = pd.read_csv(r'datasets/test.csv')\n",
    "\n",
    "# Step 1: Convert Categorical Data to Numerical\n",
    "# Label encoding for 'Severity_Rating' and 'Maintenance_History' if they exist\n",
    "# label_encoder = LabelEncoder()\n",
    "# df['Severity_Rating'] = label_encoder.fit_transform(df['Severity_Rating'])\n",
    "# df['Maintenance_History'] = label_encoder.fit_transform(df['Maintenance_History'])\n",
    "label_encoder = LabelEncoder()\n",
    "label_encoder.fit([\"Low\", \"Medium\", \"High\"])\n",
    "df['Severity_Rating'] = label_encoder.fit_transform(df['Severity_Rating'])\n",
    "label_encoder2 = LabelEncoder()\n",
    "label_encoder2.fit([\"None\", \"Minor repairs\", \"Major repairs\"])\n",
    "df['Maintenance_History'] = label_encoder2.fit_transform(df['Maintenance_History'])\n",
    "\n",
    "# Step 2: Data Cleaning\n",
    "# Impute missing numerical values with column mean\n",
    "print(df.isnull().sum()) #see how many missing values are in each column\n",
    "df.fillna(df.mean(), inplace=True)\n",
    "\n",
    "# Step 3: Normalization (Scaling data between 0 and 1)\n",
    "scaler = MinMaxScaler()\n",
    "\n",
    "# Select columns to scale (numeric features)\n",
    "numeric_columns = ['Rutting (mm)', 'Fatigue_Cracking (m²)', 'Block_Cracking (m²)', \n",
    "                   'Longitudinal_Cracking (m²)', 'Transverse_Cracking (m²)', \n",
    "                   'Patching (m²)', 'Potholes (Number)', 'Delamination (m²)', \n",
    "                   'Traffic_Volume (vehicles/day)', 'Temperature_C', 'Precipitation_mm','Severity_Rating','Maintenance_History','PCI (%)']\n",
    "\n",
    "# Apply scaling\n",
    "df[numeric_columns] = scaler.fit_transform(df[numeric_columns])\n",
    "\n",
    "# Step 4: Define Features (X) and Target (y)\n",
    "X = df.drop(columns=['PCI (%)'])  # Features (drop the PCI target)\n",
    "y = df['PCI (%)']  # Target\n",
    "\n",
    "# Step 5: Splitting the Data\n",
    "# Split data into training (70%), validation (15%), and testing (15%) sets\n",
    "X_train, X_temp, y_train, y_temp = train_test_split(X, y, test_size=0.3, random_state=42)  # 70% training\n",
    "X_val, X_test, y_val, y_test = train_test_split(X_temp, y_temp, test_size=0.5, random_state=42)  # 15% validation, 15% test\n",
    "\n",
    "# Step 6: Shuffle the Training Data to avoid learning patterns based on data order\n",
    "X_train, y_train = shuffle(X_train, y_train, random_state=42)\n",
    "\n",
    "# Output shapes for confirmation\n",
    "print(\"Training set shape:\", X_train.shape)\n",
    "print(\"Validation set shape:\", X_val.shape)\n",
    "print(\"Testing set shape:\", X_test.shape)\n",
    "\n",
    "X_test.to_csv(r'datasets/test.csv', index=False, header=False)\n",
    "X_train.to_csv(r'datasets/train.csv', index=False, header=False)\n",
    "X_val.to_csv(r'datasets/val.csv', index=False, header=False)\n",
    "y_test.to_csv(r'datasets/y_test.csv', index=False, header=False)\n",
    "y_train.to_csv(r'datasets/y_train.csv', index=False, header=False)\n",
    "y_val.to_csv(r'datasets/y_val.csv', index=False, header=False)\n"
   ]
  },
  {
   "cell_type": "code",
   "execution_count": 81,
   "metadata": {},
   "outputs": [
    {
     "name": "stderr",
     "output_type": "stream",
     "text": [
      "d:\\programming\\projects\\pavement-prediction\\.pave\\Lib\\site-packages\\keras\\src\\layers\\core\\dense.py:87: UserWarning: Do not pass an `input_shape`/`input_dim` argument to a layer. When using Sequential models, prefer using an `Input(shape)` object as the first layer in the model instead.\n",
      "  super().__init__(activity_regularizer=activity_regularizer, **kwargs)\n"
     ]
    },
    {
     "data": {
      "text/html": [
       "<pre style=\"white-space:pre;overflow-x:auto;line-height:normal;font-family:Menlo,'DejaVu Sans Mono',consolas,'Courier New',monospace\"><span style=\"font-weight: bold\">Model: \"sequential_14\"</span>\n",
       "</pre>\n"
      ],
      "text/plain": [
       "\u001b[1mModel: \"sequential_14\"\u001b[0m\n"
      ]
     },
     "metadata": {},
     "output_type": "display_data"
    },
    {
     "data": {
      "text/html": [
       "<pre style=\"white-space:pre;overflow-x:auto;line-height:normal;font-family:Menlo,'DejaVu Sans Mono',consolas,'Courier New',monospace\">┏━━━━━━━━━━━━━━━━━━━━━━━━━━━━━━━━━┳━━━━━━━━━━━━━━━━━━━━━━━━┳━━━━━━━━━━━━━━━┓\n",
       "┃<span style=\"font-weight: bold\"> Layer (type)                    </span>┃<span style=\"font-weight: bold\"> Output Shape           </span>┃<span style=\"font-weight: bold\">       Param # </span>┃\n",
       "┡━━━━━━━━━━━━━━━━━━━━━━━━━━━━━━━━━╇━━━━━━━━━━━━━━━━━━━━━━━━╇━━━━━━━━━━━━━━━┩\n",
       "│ dense_45 (<span style=\"color: #0087ff; text-decoration-color: #0087ff\">Dense</span>)                │ (<span style=\"color: #00d7ff; text-decoration-color: #00d7ff\">None</span>, <span style=\"color: #00af00; text-decoration-color: #00af00\">64</span>)             │           <span style=\"color: #00af00; text-decoration-color: #00af00\">896</span> │\n",
       "├─────────────────────────────────┼────────────────────────┼───────────────┤\n",
       "│ dense_46 (<span style=\"color: #0087ff; text-decoration-color: #0087ff\">Dense</span>)                │ (<span style=\"color: #00d7ff; text-decoration-color: #00d7ff\">None</span>, <span style=\"color: #00af00; text-decoration-color: #00af00\">32</span>)             │         <span style=\"color: #00af00; text-decoration-color: #00af00\">2,080</span> │\n",
       "├─────────────────────────────────┼────────────────────────┼───────────────┤\n",
       "│ dense_47 (<span style=\"color: #0087ff; text-decoration-color: #0087ff\">Dense</span>)                │ (<span style=\"color: #00d7ff; text-decoration-color: #00d7ff\">None</span>, <span style=\"color: #00af00; text-decoration-color: #00af00\">1</span>)              │            <span style=\"color: #00af00; text-decoration-color: #00af00\">33</span> │\n",
       "└─────────────────────────────────┴────────────────────────┴───────────────┘\n",
       "</pre>\n"
      ],
      "text/plain": [
       "┏━━━━━━━━━━━━━━━━━━━━━━━━━━━━━━━━━┳━━━━━━━━━━━━━━━━━━━━━━━━┳━━━━━━━━━━━━━━━┓\n",
       "┃\u001b[1m \u001b[0m\u001b[1mLayer (type)                   \u001b[0m\u001b[1m \u001b[0m┃\u001b[1m \u001b[0m\u001b[1mOutput Shape          \u001b[0m\u001b[1m \u001b[0m┃\u001b[1m \u001b[0m\u001b[1m      Param #\u001b[0m\u001b[1m \u001b[0m┃\n",
       "┡━━━━━━━━━━━━━━━━━━━━━━━━━━━━━━━━━╇━━━━━━━━━━━━━━━━━━━━━━━━╇━━━━━━━━━━━━━━━┩\n",
       "│ dense_45 (\u001b[38;5;33mDense\u001b[0m)                │ (\u001b[38;5;45mNone\u001b[0m, \u001b[38;5;34m64\u001b[0m)             │           \u001b[38;5;34m896\u001b[0m │\n",
       "├─────────────────────────────────┼────────────────────────┼───────────────┤\n",
       "│ dense_46 (\u001b[38;5;33mDense\u001b[0m)                │ (\u001b[38;5;45mNone\u001b[0m, \u001b[38;5;34m32\u001b[0m)             │         \u001b[38;5;34m2,080\u001b[0m │\n",
       "├─────────────────────────────────┼────────────────────────┼───────────────┤\n",
       "│ dense_47 (\u001b[38;5;33mDense\u001b[0m)                │ (\u001b[38;5;45mNone\u001b[0m, \u001b[38;5;34m1\u001b[0m)              │            \u001b[38;5;34m33\u001b[0m │\n",
       "└─────────────────────────────────┴────────────────────────┴───────────────┘\n"
      ]
     },
     "metadata": {},
     "output_type": "display_data"
    },
    {
     "data": {
      "text/html": [
       "<pre style=\"white-space:pre;overflow-x:auto;line-height:normal;font-family:Menlo,'DejaVu Sans Mono',consolas,'Courier New',monospace\"><span style=\"font-weight: bold\"> Total params: </span><span style=\"color: #00af00; text-decoration-color: #00af00\">3,009</span> (11.75 KB)\n",
       "</pre>\n"
      ],
      "text/plain": [
       "\u001b[1m Total params: \u001b[0m\u001b[38;5;34m3,009\u001b[0m (11.75 KB)\n"
      ]
     },
     "metadata": {},
     "output_type": "display_data"
    },
    {
     "data": {
      "text/html": [
       "<pre style=\"white-space:pre;overflow-x:auto;line-height:normal;font-family:Menlo,'DejaVu Sans Mono',consolas,'Courier New',monospace\"><span style=\"font-weight: bold\"> Trainable params: </span><span style=\"color: #00af00; text-decoration-color: #00af00\">3,009</span> (11.75 KB)\n",
       "</pre>\n"
      ],
      "text/plain": [
       "\u001b[1m Trainable params: \u001b[0m\u001b[38;5;34m3,009\u001b[0m (11.75 KB)\n"
      ]
     },
     "metadata": {},
     "output_type": "display_data"
    },
    {
     "data": {
      "text/html": [
       "<pre style=\"white-space:pre;overflow-x:auto;line-height:normal;font-family:Menlo,'DejaVu Sans Mono',consolas,'Courier New',monospace\"><span style=\"font-weight: bold\"> Non-trainable params: </span><span style=\"color: #00af00; text-decoration-color: #00af00\">0</span> (0.00 B)\n",
       "</pre>\n"
      ],
      "text/plain": [
       "\u001b[1m Non-trainable params: \u001b[0m\u001b[38;5;34m0\u001b[0m (0.00 B)\n"
      ]
     },
     "metadata": {},
     "output_type": "display_data"
    },
    {
     "name": "stdout",
     "output_type": "stream",
     "text": [
      "Epoch 1/50\n",
      "\u001b[1m2/2\u001b[0m \u001b[32m━━━━━━━━━━━━━━━━━━━━\u001b[0m\u001b[37m\u001b[0m \u001b[1m1s\u001b[0m 195ms/step - loss: 0.2502 - mae: 0.4504 - val_loss: 0.1894 - val_mae: 0.3840\n",
      "Epoch 2/50\n",
      "\u001b[1m2/2\u001b[0m \u001b[32m━━━━━━━━━━━━━━━━━━━━\u001b[0m\u001b[37m\u001b[0m \u001b[1m0s\u001b[0m 44ms/step - loss: 0.1288 - mae: 0.3035 - val_loss: 0.0971 - val_mae: 0.2418\n",
      "Epoch 3/50\n",
      "\u001b[1m2/2\u001b[0m \u001b[32m━━━━━━━━━━━━━━━━━━━━\u001b[0m\u001b[37m\u001b[0m \u001b[1m0s\u001b[0m 48ms/step - loss: 0.0760 - mae: 0.2207 - val_loss: 0.0588 - val_mae: 0.2183\n",
      "Epoch 4/50\n",
      "\u001b[1m2/2\u001b[0m \u001b[32m━━━━━━━━━━━━━━━━━━━━\u001b[0m\u001b[37m\u001b[0m \u001b[1m0s\u001b[0m 50ms/step - loss: 0.0747 - mae: 0.2320 - val_loss: 0.0521 - val_mae: 0.2227\n",
      "Epoch 5/50\n",
      "\u001b[1m2/2\u001b[0m \u001b[32m━━━━━━━━━━━━━━━━━━━━\u001b[0m\u001b[37m\u001b[0m \u001b[1m0s\u001b[0m 32ms/step - loss: 0.0946 - mae: 0.2558 - val_loss: 0.0519 - val_mae: 0.2183\n",
      "Epoch 6/50\n",
      "\u001b[1m2/2\u001b[0m \u001b[32m━━━━━━━━━━━━━━━━━━━━\u001b[0m\u001b[37m\u001b[0m \u001b[1m0s\u001b[0m 46ms/step - loss: 0.1026 - mae: 0.2597 - val_loss: 0.0475 - val_mae: 0.2089\n",
      "Epoch 7/50\n",
      "\u001b[1m2/2\u001b[0m \u001b[32m━━━━━━━━━━━━━━━━━━━━\u001b[0m\u001b[37m\u001b[0m \u001b[1m0s\u001b[0m 33ms/step - loss: 0.0934 - mae: 0.2464 - val_loss: 0.0423 - val_mae: 0.1991\n",
      "Epoch 8/50\n",
      "\u001b[1m2/2\u001b[0m \u001b[32m━━━━━━━━━━━━━━━━━━━━\u001b[0m\u001b[37m\u001b[0m \u001b[1m0s\u001b[0m 37ms/step - loss: 0.0786 - mae: 0.2258 - val_loss: 0.0374 - val_mae: 0.1892\n",
      "Epoch 9/50\n",
      "\u001b[1m2/2\u001b[0m \u001b[32m━━━━━━━━━━━━━━━━━━━━\u001b[0m\u001b[37m\u001b[0m \u001b[1m0s\u001b[0m 46ms/step - loss: 0.0652 - mae: 0.2102 - val_loss: 0.0341 - val_mae: 0.1786\n",
      "Epoch 10/50\n",
      "\u001b[1m2/2\u001b[0m \u001b[32m━━━━━━━━━━━━━━━━━━━━\u001b[0m\u001b[37m\u001b[0m \u001b[1m0s\u001b[0m 37ms/step - loss: 0.0511 - mae: 0.1874 - val_loss: 0.0326 - val_mae: 0.1668\n",
      "Epoch 11/50\n",
      "\u001b[1m2/2\u001b[0m \u001b[32m━━━━━━━━━━━━━━━━━━━━\u001b[0m\u001b[37m\u001b[0m \u001b[1m0s\u001b[0m 36ms/step - loss: 0.0426 - mae: 0.1697 - val_loss: 0.0322 - val_mae: 0.1561\n",
      "Epoch 12/50\n",
      "\u001b[1m2/2\u001b[0m \u001b[32m━━━━━━━━━━━━━━━━━━━━\u001b[0m\u001b[37m\u001b[0m \u001b[1m0s\u001b[0m 34ms/step - loss: 0.0370 - mae: 0.1573 - val_loss: 0.0308 - val_mae: 0.1485\n",
      "Epoch 13/50\n",
      "\u001b[1m2/2\u001b[0m \u001b[32m━━━━━━━━━━━━━━━━━━━━\u001b[0m\u001b[37m\u001b[0m \u001b[1m0s\u001b[0m 37ms/step - loss: 0.0337 - mae: 0.1507 - val_loss: 0.0293 - val_mae: 0.1421\n",
      "Epoch 14/50\n",
      "\u001b[1m2/2\u001b[0m \u001b[32m━━━━━━━━━━━━━━━━━━━━\u001b[0m\u001b[37m\u001b[0m \u001b[1m0s\u001b[0m 44ms/step - loss: 0.0311 - mae: 0.1456 - val_loss: 0.0288 - val_mae: 0.1356\n",
      "Epoch 15/50\n",
      "\u001b[1m2/2\u001b[0m \u001b[32m━━━━━━━━━━━━━━━━━━━━\u001b[0m\u001b[37m\u001b[0m \u001b[1m0s\u001b[0m 38ms/step - loss: 0.0289 - mae: 0.1408 - val_loss: 0.0274 - val_mae: 0.1315\n",
      "Epoch 16/50\n",
      "\u001b[1m2/2\u001b[0m \u001b[32m━━━━━━━━━━━━━━━━━━━━\u001b[0m\u001b[37m\u001b[0m \u001b[1m0s\u001b[0m 40ms/step - loss: 0.0277 - mae: 0.1383 - val_loss: 0.0240 - val_mae: 0.1243\n",
      "Epoch 17/50\n",
      "\u001b[1m2/2\u001b[0m \u001b[32m━━━━━━━━━━━━━━━━━━━━\u001b[0m\u001b[37m\u001b[0m \u001b[1m0s\u001b[0m 49ms/step - loss: 0.0235 - mae: 0.1285 - val_loss: 0.0205 - val_mae: 0.1200\n",
      "Epoch 18/50\n",
      "\u001b[1m2/2\u001b[0m \u001b[32m━━━━━━━━━━━━━━━━━━━━\u001b[0m\u001b[37m\u001b[0m \u001b[1m0s\u001b[0m 39ms/step - loss: 0.0239 - mae: 0.1263 - val_loss: 0.0185 - val_mae: 0.1190\n",
      "Epoch 19/50\n",
      "\u001b[1m2/2\u001b[0m \u001b[32m━━━━━━━━━━━━━━━━━━━━\u001b[0m\u001b[37m\u001b[0m \u001b[1m0s\u001b[0m 40ms/step - loss: 0.0228 - mae: 0.1205 - val_loss: 0.0181 - val_mae: 0.1185\n",
      "Epoch 20/50\n",
      "\u001b[1m2/2\u001b[0m \u001b[32m━━━━━━━━━━━━━━━━━━━━\u001b[0m\u001b[37m\u001b[0m \u001b[1m0s\u001b[0m 49ms/step - loss: 0.0217 - mae: 0.1162 - val_loss: 0.0179 - val_mae: 0.1164\n",
      "Epoch 21/50\n",
      "\u001b[1m2/2\u001b[0m \u001b[32m━━━━━━━━━━━━━━━━━━━━\u001b[0m\u001b[37m\u001b[0m \u001b[1m0s\u001b[0m 38ms/step - loss: 0.0208 - mae: 0.1151 - val_loss: 0.0176 - val_mae: 0.1136\n",
      "Epoch 22/50\n",
      "\u001b[1m2/2\u001b[0m \u001b[32m━━━━━━━━━━━━━━━━━━━━\u001b[0m\u001b[37m\u001b[0m \u001b[1m0s\u001b[0m 33ms/step - loss: 0.0193 - mae: 0.1102 - val_loss: 0.0172 - val_mae: 0.1107\n",
      "Epoch 23/50\n",
      "\u001b[1m2/2\u001b[0m \u001b[32m━━━━━━━━━━━━━━━━━━━━\u001b[0m\u001b[37m\u001b[0m \u001b[1m0s\u001b[0m 36ms/step - loss: 0.0176 - mae: 0.1062 - val_loss: 0.0172 - val_mae: 0.1077\n",
      "Epoch 24/50\n",
      "\u001b[1m2/2\u001b[0m \u001b[32m━━━━━━━━━━━━━━━━━━━━\u001b[0m\u001b[37m\u001b[0m \u001b[1m0s\u001b[0m 37ms/step - loss: 0.0171 - mae: 0.1055 - val_loss: 0.0175 - val_mae: 0.1052\n",
      "Epoch 25/50\n",
      "\u001b[1m2/2\u001b[0m \u001b[32m━━━━━━━━━━━━━━━━━━━━\u001b[0m\u001b[37m\u001b[0m \u001b[1m0s\u001b[0m 33ms/step - loss: 0.0166 - mae: 0.1029 - val_loss: 0.0176 - val_mae: 0.1029\n",
      "Epoch 26/50\n",
      "\u001b[1m2/2\u001b[0m \u001b[32m━━━━━━━━━━━━━━━━━━━━\u001b[0m\u001b[37m\u001b[0m \u001b[1m0s\u001b[0m 49ms/step - loss: 0.0164 - mae: 0.1019 - val_loss: 0.0171 - val_mae: 0.1020\n",
      "Epoch 27/50\n",
      "\u001b[1m2/2\u001b[0m \u001b[32m━━━━━━━━━━━━━━━━━━━━\u001b[0m\u001b[37m\u001b[0m \u001b[1m0s\u001b[0m 31ms/step - loss: 0.0146 - mae: 0.0954 - val_loss: 0.0168 - val_mae: 0.1028\n",
      "Epoch 28/50\n",
      "\u001b[1m2/2\u001b[0m \u001b[32m━━━━━━━━━━━━━━━━━━━━\u001b[0m\u001b[37m\u001b[0m \u001b[1m0s\u001b[0m 32ms/step - loss: 0.0146 - mae: 0.0935 - val_loss: 0.0173 - val_mae: 0.1049\n",
      "Epoch 29/50\n",
      "\u001b[1m2/2\u001b[0m \u001b[32m━━━━━━━━━━━━━━━━━━━━\u001b[0m\u001b[37m\u001b[0m \u001b[1m0s\u001b[0m 37ms/step - loss: 0.0143 - mae: 0.0940 - val_loss: 0.0186 - val_mae: 0.1076\n",
      "Epoch 30/50\n",
      "\u001b[1m2/2\u001b[0m \u001b[32m━━━━━━━━━━━━━━━━━━━━\u001b[0m\u001b[37m\u001b[0m \u001b[1m0s\u001b[0m 45ms/step - loss: 0.0136 - mae: 0.0941 - val_loss: 0.0180 - val_mae: 0.1067\n",
      "Epoch 31/50\n",
      "\u001b[1m2/2\u001b[0m \u001b[32m━━━━━━━━━━━━━━━━━━━━\u001b[0m\u001b[37m\u001b[0m \u001b[1m0s\u001b[0m 34ms/step - loss: 0.0136 - mae: 0.0924 - val_loss: 0.0170 - val_mae: 0.1039\n",
      "Epoch 32/50\n",
      "\u001b[1m2/2\u001b[0m \u001b[32m━━━━━━━━━━━━━━━━━━━━\u001b[0m\u001b[37m\u001b[0m \u001b[1m0s\u001b[0m 37ms/step - loss: 0.0125 - mae: 0.0860 - val_loss: 0.0175 - val_mae: 0.1044\n",
      "Epoch 33/50\n",
      "\u001b[1m2/2\u001b[0m \u001b[32m━━━━━━━━━━━━━━━━━━━━\u001b[0m\u001b[37m\u001b[0m \u001b[1m0s\u001b[0m 33ms/step - loss: 0.0131 - mae: 0.0888 - val_loss: 0.0177 - val_mae: 0.1065\n",
      "Epoch 34/50\n",
      "\u001b[1m2/2\u001b[0m \u001b[32m━━━━━━━━━━━━━━━━━━━━\u001b[0m\u001b[37m\u001b[0m \u001b[1m0s\u001b[0m 28ms/step - loss: 0.0125 - mae: 0.0870 - val_loss: 0.0177 - val_mae: 0.1085\n",
      "Epoch 35/50\n",
      "\u001b[1m2/2\u001b[0m \u001b[32m━━━━━━━━━━━━━━━━━━━━\u001b[0m\u001b[37m\u001b[0m \u001b[1m0s\u001b[0m 33ms/step - loss: 0.0117 - mae: 0.0839 - val_loss: 0.0180 - val_mae: 0.1106\n",
      "Epoch 36/50\n",
      "\u001b[1m2/2\u001b[0m \u001b[32m━━━━━━━━━━━━━━━━━━━━\u001b[0m\u001b[37m\u001b[0m \u001b[1m0s\u001b[0m 45ms/step - loss: 0.0111 - mae: 0.0820 - val_loss: 0.0185 - val_mae: 0.1123\n",
      "Epoch 37/50\n",
      "\u001b[1m2/2\u001b[0m \u001b[32m━━━━━━━━━━━━━━━━━━━━\u001b[0m\u001b[37m\u001b[0m \u001b[1m0s\u001b[0m 34ms/step - loss: 0.0106 - mae: 0.0815 - val_loss: 0.0186 - val_mae: 0.1125\n",
      "Epoch 38/50\n",
      "\u001b[1m2/2\u001b[0m \u001b[32m━━━━━━━━━━━━━━━━━━━━\u001b[0m\u001b[37m\u001b[0m \u001b[1m0s\u001b[0m 33ms/step - loss: 0.0105 - mae: 0.0827 - val_loss: 0.0186 - val_mae: 0.1125\n",
      "Epoch 39/50\n",
      "\u001b[1m2/2\u001b[0m \u001b[32m━━━━━━━━━━━━━━━━━━━━\u001b[0m\u001b[37m\u001b[0m \u001b[1m0s\u001b[0m 37ms/step - loss: 0.0103 - mae: 0.0818 - val_loss: 0.0187 - val_mae: 0.1123\n",
      "Epoch 40/50\n",
      "\u001b[1m2/2\u001b[0m \u001b[32m━━━━━━━━━━━━━━━━━━━━\u001b[0m\u001b[37m\u001b[0m \u001b[1m0s\u001b[0m 36ms/step - loss: 0.0099 - mae: 0.0800 - val_loss: 0.0189 - val_mae: 0.1123\n",
      "Epoch 41/50\n",
      "\u001b[1m2/2\u001b[0m \u001b[32m━━━━━━━━━━━━━━━━━━━━\u001b[0m\u001b[37m\u001b[0m \u001b[1m0s\u001b[0m 32ms/step - loss: 0.0096 - mae: 0.0788 - val_loss: 0.0184 - val_mae: 0.1110\n",
      "Epoch 42/50\n",
      "\u001b[1m2/2\u001b[0m \u001b[32m━━━━━━━━━━━━━━━━━━━━\u001b[0m\u001b[37m\u001b[0m \u001b[1m0s\u001b[0m 52ms/step - loss: 0.0093 - mae: 0.0773 - val_loss: 0.0180 - val_mae: 0.1096\n",
      "Epoch 43/50\n",
      "\u001b[1m2/2\u001b[0m \u001b[32m━━━━━━━━━━━━━━━━━━━━\u001b[0m\u001b[37m\u001b[0m \u001b[1m0s\u001b[0m 40ms/step - loss: 0.0095 - mae: 0.0770 - val_loss: 0.0181 - val_mae: 0.1093\n",
      "Epoch 44/50\n",
      "\u001b[1m2/2\u001b[0m \u001b[32m━━━━━━━━━━━━━━━━━━━━\u001b[0m\u001b[37m\u001b[0m \u001b[1m0s\u001b[0m 31ms/step - loss: 0.0093 - mae: 0.0759 - val_loss: 0.0181 - val_mae: 0.1085\n",
      "Epoch 45/50\n",
      "\u001b[1m2/2\u001b[0m \u001b[32m━━━━━━━━━━━━━━━━━━━━\u001b[0m\u001b[37m\u001b[0m \u001b[1m0s\u001b[0m 32ms/step - loss: 0.0089 - mae: 0.0732 - val_loss: 0.0178 - val_mae: 0.1068\n",
      "Epoch 46/50\n",
      "\u001b[1m2/2\u001b[0m \u001b[32m━━━━━━━━━━━━━━━━━━━━\u001b[0m\u001b[37m\u001b[0m \u001b[1m0s\u001b[0m 34ms/step - loss: 0.0086 - mae: 0.0722 - val_loss: 0.0177 - val_mae: 0.1058\n",
      "Epoch 47/50\n",
      "\u001b[1m2/2\u001b[0m \u001b[32m━━━━━━━━━━━━━━━━━━━━\u001b[0m\u001b[37m\u001b[0m \u001b[1m0s\u001b[0m 42ms/step - loss: 0.0086 - mae: 0.0715 - val_loss: 0.0180 - val_mae: 0.1064\n",
      "Epoch 48/50\n",
      "\u001b[1m2/2\u001b[0m \u001b[32m━━━━━━━━━━━━━━━━━━━━\u001b[0m\u001b[37m\u001b[0m \u001b[1m0s\u001b[0m 42ms/step - loss: 0.0080 - mae: 0.0702 - val_loss: 0.0191 - val_mae: 0.1078\n",
      "Epoch 49/50\n",
      "\u001b[1m2/2\u001b[0m \u001b[32m━━━━━━━━━━━━━━━━━━━━\u001b[0m\u001b[37m\u001b[0m \u001b[1m0s\u001b[0m 33ms/step - loss: 0.0083 - mae: 0.0754 - val_loss: 0.0208 - val_mae: 0.1151\n",
      "Epoch 50/50\n",
      "\u001b[1m2/2\u001b[0m \u001b[32m━━━━━━━━━━━━━━━━━━━━\u001b[0m\u001b[37m\u001b[0m \u001b[1m0s\u001b[0m 33ms/step - loss: 0.0089 - mae: 0.0799 - val_loss: 0.0202 - val_mae: 0.1125\n",
      "\u001b[1m1/1\u001b[0m \u001b[32m━━━━━━━━━━━━━━━━━━━━\u001b[0m\u001b[37m\u001b[0m \u001b[1m0s\u001b[0m 46ms/step - loss: 0.0065 - mae: 0.0778\n",
      "Test MAE: 0.0777626782655716, Test Loss: 0.006487066391855478)\n"
     ]
    }
   ],
   "source": [
    "# Import necessary libraries\n",
    "from tensorflow.keras.models import Sequential\n",
    "from tensorflow.keras.layers import Dense\n",
    "from tensorflow.keras.optimizers import Adam\n",
    "\n",
    "X_train = pd.read_csv(r'datasets/train.csv')\n",
    "X_val = pd.read_csv(r'datasets/val.csv')\n",
    "X_test = pd.read_csv(r'datasets/test.csv')\n",
    "y_train = pd.read_csv(r'datasets/y_train.csv')\n",
    "y_val = pd.read_csv(r'datasets/y_val.csv')\n",
    "y_test = pd.read_csv(r'datasets/y_test.csv')\n",
    "\n",
    "# Define the neural network model\n",
    "model = Sequential([\n",
    "    Dense(64, input_dim=X_train.shape[1], activation='relu'),\n",
    "    Dense(32, activation='relu'),\n",
    "    Dense(1, activation='linear')  # Use 'linear' for regression tasks\n",
    "])\n",
    "\n",
    "# Compile the model\n",
    "model.compile(optimizer=Adam(learning_rate=0.001), loss='mean_squared_error', metrics=['mae'])\n",
    "#model.compile(optimizer=Adam(learning_rate=0.001), loss='binary_crossentropy', metrics=['accuracy'])\n",
    " #model.compile(optimizer=Adam(learning_rate=0.001), loss='sparse_categorical_crossentropy', metrics=['accuracy'])\n",
    "\n",
    "model.summary()\n",
    "\n",
    "# Train the model\n",
    "history = model.fit(X_train, y_train, validation_data=(X_val, y_val), epochs=50, batch_size=32)\n",
    "\n",
    "# Evaluate the model\n",
    "test_accuracy = ''\n",
    "test_loss, test_mae, = model.evaluate(X_test, y_test)\n",
    "print(f'Test MAE: {test_mae}, Test Loss: {test_loss})')"
   ]
  },
  {
   "cell_type": "code",
   "execution_count": 82,
   "metadata": {},
   "outputs": [
    {
     "data": {
      "image/png": "[encoded data removed]",
      "text/plain": [
       "<Figure size 1200x400 with 2 Axes>"
      ]
     },
     "metadata": {},
     "output_type": "display_data"
    }
   ],
   "source": [
    "import matplotlib.pyplot as plt\n",
    "\n",
    "# Plot training & validation loss values\n",
    "plt.figure(figsize=(12, 4))\n",
    "\n",
    "plt.subplot(1, 2, 1)\n",
    "plt.plot(history.history['loss'])\n",
    "plt.plot(history.history['val_loss'])\n",
    "plt.title('Model Loss')\n",
    "plt.xlabel('Epoch')\n",
    "plt.ylabel('Loss')\n",
    "plt.legend(['Train', 'Validation'], loc='upper right')\n",
    "\n",
    "# Plot training & validation MAE values\n",
    "plt.subplot(1, 2, 2)\n",
    "plt.plot(history.history['mae'])\n",
    "plt.plot(history.history['val_mae'])\n",
    "plt.title('Model MAE')\n",
    "plt.xlabel('Epoch')\n",
    "plt.ylabel('Mean Absolute Error')\n",
    "plt.legend(['Train', 'Validation'], loc='upper right')\n",
    "\n",
    "plt.tight_layout()\n",
    "plt.show()"
   ]
  },
  {
   "cell_type": "code",
   "execution_count": 84,
   "metadata": {},
   "outputs": [],
   "source": [
    "model.save('models/multiper-L006-MAE077-simple-002.keras')"
   ]
  },
  {
   "cell_type": "code",
   "execution_count": 71,
   "metadata": {},
   "outputs": [
    {
     "name": "stderr",
     "output_type": "stream",
     "text": [
      "d:\\programming\\projects\\pavement-prediction\\.pave\\Lib\\site-packages\\keras\\src\\layers\\core\\dense.py:87: UserWarning: Do not pass an `input_shape`/`input_dim` argument to a layer. When using Sequential models, prefer using an `Input(shape)` object as the first layer in the model instead.\n",
      "  super().__init__(activity_regularizer=activity_regularizer, **kwargs)\n"
     ]
    },
    {
     "data": {
      "text/html": [
       "<pre style=\"white-space:pre;overflow-x:auto;line-height:normal;font-family:Menlo,'DejaVu Sans Mono',consolas,'Courier New',monospace\"><span style=\"font-weight: bold\">Model: \"sequential_13\"</span>\n",
       "</pre>\n"
      ],
      "text/plain": [
       "\u001b[1mModel: \"sequential_13\"\u001b[0m\n"
      ]
     },
     "metadata": {},
     "output_type": "display_data"
    },
    {
     "data": {
      "text/html": [
       "<pre style=\"white-space:pre;overflow-x:auto;line-height:normal;font-family:Menlo,'DejaVu Sans Mono',consolas,'Courier New',monospace\">┏━━━━━━━━━━━━━━━━━━━━━━━━━━━━━━━━━┳━━━━━━━━━━━━━━━━━━━━━━━━┳━━━━━━━━━━━━━━━┓\n",
       "┃<span style=\"font-weight: bold\"> Layer (type)                    </span>┃<span style=\"font-weight: bold\"> Output Shape           </span>┃<span style=\"font-weight: bold\">       Param # </span>┃\n",
       "┡━━━━━━━━━━━━━━━━━━━━━━━━━━━━━━━━━╇━━━━━━━━━━━━━━━━━━━━━━━━╇━━━━━━━━━━━━━━━┩\n",
       "│ dense_41 (<span style=\"color: #0087ff; text-decoration-color: #0087ff\">Dense</span>)                │ (<span style=\"color: #00d7ff; text-decoration-color: #00d7ff\">None</span>, <span style=\"color: #00af00; text-decoration-color: #00af00\">64</span>)             │           <span style=\"color: #00af00; text-decoration-color: #00af00\">896</span> │\n",
       "├─────────────────────────────────┼────────────────────────┼───────────────┤\n",
       "│ dropout_6 (<span style=\"color: #0087ff; text-decoration-color: #0087ff\">Dropout</span>)             │ (<span style=\"color: #00d7ff; text-decoration-color: #00d7ff\">None</span>, <span style=\"color: #00af00; text-decoration-color: #00af00\">64</span>)             │             <span style=\"color: #00af00; text-decoration-color: #00af00\">0</span> │\n",
       "├─────────────────────────────────┼────────────────────────┼───────────────┤\n",
       "│ dense_42 (<span style=\"color: #0087ff; text-decoration-color: #0087ff\">Dense</span>)                │ (<span style=\"color: #00d7ff; text-decoration-color: #00d7ff\">None</span>, <span style=\"color: #00af00; text-decoration-color: #00af00\">32</span>)             │         <span style=\"color: #00af00; text-decoration-color: #00af00\">2,080</span> │\n",
       "├─────────────────────────────────┼────────────────────────┼───────────────┤\n",
       "│ dropout_7 (<span style=\"color: #0087ff; text-decoration-color: #0087ff\">Dropout</span>)             │ (<span style=\"color: #00d7ff; text-decoration-color: #00d7ff\">None</span>, <span style=\"color: #00af00; text-decoration-color: #00af00\">32</span>)             │             <span style=\"color: #00af00; text-decoration-color: #00af00\">0</span> │\n",
       "├─────────────────────────────────┼────────────────────────┼───────────────┤\n",
       "│ dense_43 (<span style=\"color: #0087ff; text-decoration-color: #0087ff\">Dense</span>)                │ (<span style=\"color: #00d7ff; text-decoration-color: #00d7ff\">None</span>, <span style=\"color: #00af00; text-decoration-color: #00af00\">16</span>)             │           <span style=\"color: #00af00; text-decoration-color: #00af00\">528</span> │\n",
       "├─────────────────────────────────┼────────────────────────┼───────────────┤\n",
       "│ dropout_8 (<span style=\"color: #0087ff; text-decoration-color: #0087ff\">Dropout</span>)             │ (<span style=\"color: #00d7ff; text-decoration-color: #00d7ff\">None</span>, <span style=\"color: #00af00; text-decoration-color: #00af00\">16</span>)             │             <span style=\"color: #00af00; text-decoration-color: #00af00\">0</span> │\n",
       "├─────────────────────────────────┼────────────────────────┼───────────────┤\n",
       "│ dense_44 (<span style=\"color: #0087ff; text-decoration-color: #0087ff\">Dense</span>)                │ (<span style=\"color: #00d7ff; text-decoration-color: #00d7ff\">None</span>, <span style=\"color: #00af00; text-decoration-color: #00af00\">1</span>)              │            <span style=\"color: #00af00; text-decoration-color: #00af00\">17</span> │\n",
       "└─────────────────────────────────┴────────────────────────┴───────────────┘\n",
       "</pre>\n"
      ],
      "text/plain": [
       "┏━━━━━━━━━━━━━━━━━━━━━━━━━━━━━━━━━┳━━━━━━━━━━━━━━━━━━━━━━━━┳━━━━━━━━━━━━━━━┓\n",
       "┃\u001b[1m \u001b[0m\u001b[1mLayer (type)                   \u001b[0m\u001b[1m \u001b[0m┃\u001b[1m \u001b[0m\u001b[1mOutput Shape          \u001b[0m\u001b[1m \u001b[0m┃\u001b[1m \u001b[0m\u001b[1m      Param #\u001b[0m\u001b[1m \u001b[0m┃\n",
       "┡━━━━━━━━━━━━━━━━━━━━━━━━━━━━━━━━━╇━━━━━━━━━━━━━━━━━━━━━━━━╇━━━━━━━━━━━━━━━┩\n",
       "│ dense_41 (\u001b[38;5;33mDense\u001b[0m)                │ (\u001b[38;5;45mNone\u001b[0m, \u001b[38;5;34m64\u001b[0m)             │           \u001b[38;5;34m896\u001b[0m │\n",
       "├─────────────────────────────────┼────────────────────────┼───────────────┤\n",
       "│ dropout_6 (\u001b[38;5;33mDropout\u001b[0m)             │ (\u001b[38;5;45mNone\u001b[0m, \u001b[38;5;34m64\u001b[0m)             │             \u001b[38;5;34m0\u001b[0m │\n",
       "├─────────────────────────────────┼────────────────────────┼───────────────┤\n",
       "│ dense_42 (\u001b[38;5;33mDense\u001b[0m)                │ (\u001b[38;5;45mNone\u001b[0m, \u001b[38;5;34m32\u001b[0m)             │         \u001b[38;5;34m2,080\u001b[0m │\n",
       "├─────────────────────────────────┼────────────────────────┼───────────────┤\n",
       "│ dropout_7 (\u001b[38;5;33mDropout\u001b[0m)             │ (\u001b[38;5;45mNone\u001b[0m, \u001b[38;5;34m32\u001b[0m)             │             \u001b[38;5;34m0\u001b[0m │\n",
       "├─────────────────────────────────┼────────────────────────┼───────────────┤\n",
       "│ dense_43 (\u001b[38;5;33mDense\u001b[0m)                │ (\u001b[38;5;45mNone\u001b[0m, \u001b[38;5;34m16\u001b[0m)             │           \u001b[38;5;34m528\u001b[0m │\n",
       "├─────────────────────────────────┼────────────────────────┼───────────────┤\n",
       "│ dropout_8 (\u001b[38;5;33mDropout\u001b[0m)             │ (\u001b[38;5;45mNone\u001b[0m, \u001b[38;5;34m16\u001b[0m)             │             \u001b[38;5;34m0\u001b[0m │\n",
       "├─────────────────────────────────┼────────────────────────┼───────────────┤\n",
       "│ dense_44 (\u001b[38;5;33mDense\u001b[0m)                │ (\u001b[38;5;45mNone\u001b[0m, \u001b[38;5;34m1\u001b[0m)              │            \u001b[38;5;34m17\u001b[0m │\n",
       "└─────────────────────────────────┴────────────────────────┴───────────────┘\n"
      ]
     },
     "metadata": {},
     "output_type": "display_data"
    },
    {
     "data": {
      "text/html": [
       "<pre style=\"white-space:pre;overflow-x:auto;line-height:normal;font-family:Menlo,'DejaVu Sans Mono',consolas,'Courier New',monospace\"><span style=\"font-weight: bold\"> Total params: </span><span style=\"color: #00af00; text-decoration-color: #00af00\">3,521</span> (13.75 KB)\n",
       "</pre>\n"
      ],
      "text/plain": [
       "\u001b[1m Total params: \u001b[0m\u001b[38;5;34m3,521\u001b[0m (13.75 KB)\n"
      ]
     },
     "metadata": {},
     "output_type": "display_data"
    },
    {
     "data": {
      "text/html": [
       "<pre style=\"white-space:pre;overflow-x:auto;line-height:normal;font-family:Menlo,'DejaVu Sans Mono',consolas,'Courier New',monospace\"><span style=\"font-weight: bold\"> Trainable params: </span><span style=\"color: #00af00; text-decoration-color: #00af00\">3,521</span> (13.75 KB)\n",
       "</pre>\n"
      ],
      "text/plain": [
       "\u001b[1m Trainable params: \u001b[0m\u001b[38;5;34m3,521\u001b[0m (13.75 KB)\n"
      ]
     },
     "metadata": {},
     "output_type": "display_data"
    },
    {
     "data": {
      "text/html": [
       "<pre style=\"white-space:pre;overflow-x:auto;line-height:normal;font-family:Menlo,'DejaVu Sans Mono',consolas,'Courier New',monospace\"><span style=\"font-weight: bold\"> Non-trainable params: </span><span style=\"color: #00af00; text-decoration-color: #00af00\">0</span> (0.00 B)\n",
       "</pre>\n"
      ],
      "text/plain": [
       "\u001b[1m Non-trainable params: \u001b[0m\u001b[38;5;34m0\u001b[0m (0.00 B)\n"
      ]
     },
     "metadata": {},
     "output_type": "display_data"
    },
    {
     "name": "stdout",
     "output_type": "stream",
     "text": [
      "Epoch 1/50\n",
      "\u001b[1m2/2\u001b[0m \u001b[32m━━━━━━━━━━━━━━━━━━━━\u001b[0m\u001b[37m\u001b[0m \u001b[1m2s\u001b[0m 191ms/step - loss: 0.6658 - val_loss: 0.6725\n",
      "Epoch 2/50\n",
      "\u001b[1m2/2\u001b[0m \u001b[32m━━━━━━━━━━━━━━━━━━━━\u001b[0m\u001b[37m\u001b[0m \u001b[1m0s\u001b[0m 37ms/step - loss: 0.6343 - val_loss: 0.5819\n",
      "Epoch 3/50\n",
      "\u001b[1m2/2\u001b[0m \u001b[32m━━━━━━━━━━━━━━━━━━━━\u001b[0m\u001b[37m\u001b[0m \u001b[1m0s\u001b[0m 40ms/step - loss: 0.4547 - val_loss: 0.4981\n",
      "Epoch 4/50\n",
      "\u001b[1m2/2\u001b[0m \u001b[32m━━━━━━━━━━━━━━━━━━━━\u001b[0m\u001b[37m\u001b[0m \u001b[1m0s\u001b[0m 37ms/step - loss: 0.4674 - val_loss: 0.4209\n",
      "Epoch 5/50\n",
      "\u001b[1m2/2\u001b[0m \u001b[32m━━━━━━━━━━━━━━━━━━━━\u001b[0m\u001b[37m\u001b[0m \u001b[1m0s\u001b[0m 33ms/step - loss: 0.3181 - val_loss: 0.3504\n",
      "Epoch 6/50\n",
      "\u001b[1m2/2\u001b[0m \u001b[32m━━━━━━━━━━━━━━━━━━━━\u001b[0m\u001b[37m\u001b[0m \u001b[1m0s\u001b[0m 32ms/step - loss: 0.3480 - val_loss: 0.2840\n",
      "Epoch 7/50\n",
      "\u001b[1m2/2\u001b[0m \u001b[32m━━━━━━━━━━━━━━━━━━━━\u001b[0m\u001b[37m\u001b[0m \u001b[1m0s\u001b[0m 41ms/step - loss: 0.2193 - val_loss: 0.2231\n",
      "Epoch 8/50\n",
      "\u001b[1m2/2\u001b[0m \u001b[32m━━━━━━━━━━━━━━━━━━━━\u001b[0m\u001b[37m\u001b[0m \u001b[1m0s\u001b[0m 36ms/step - loss: 0.1827 - val_loss: 0.1646\n",
      "Epoch 9/50\n",
      "\u001b[1m2/2\u001b[0m \u001b[32m━━━━━━━━━━━━━━━━━━━━\u001b[0m\u001b[37m\u001b[0m \u001b[1m0s\u001b[0m 33ms/step - loss: 0.2353 - val_loss: 0.1100\n",
      "Epoch 10/50\n",
      "\u001b[1m2/2\u001b[0m \u001b[32m━━━━━━━━━━━━━━━━━━━━\u001b[0m\u001b[37m\u001b[0m \u001b[1m0s\u001b[0m 36ms/step - loss: 0.0986 - val_loss: 0.0671\n",
      "Epoch 11/50\n",
      "\u001b[1m2/2\u001b[0m \u001b[32m━━━━━━━━━━━━━━━━━━━━\u001b[0m\u001b[37m\u001b[0m \u001b[1m0s\u001b[0m 35ms/step - loss: 0.1008 - val_loss: 0.0372\n",
      "Epoch 12/50\n",
      "\u001b[1m2/2\u001b[0m \u001b[32m━━━━━━━━━━━━━━━━━━━━\u001b[0m\u001b[37m\u001b[0m \u001b[1m0s\u001b[0m 34ms/step - loss: 0.0795 - val_loss: 0.0217\n",
      "Epoch 13/50\n",
      "\u001b[1m2/2\u001b[0m \u001b[32m━━━━━━━━━━━━━━━━━━━━\u001b[0m\u001b[37m\u001b[0m \u001b[1m0s\u001b[0m 34ms/step - loss: 0.0895 - val_loss: 0.0156\n",
      "Epoch 14/50\n",
      "\u001b[1m2/2\u001b[0m \u001b[32m━━━━━━━━━━━━━━━━━━━━\u001b[0m\u001b[37m\u001b[0m \u001b[1m0s\u001b[0m 36ms/step - loss: 0.1440 - val_loss: 0.0148\n",
      "Epoch 15/50\n",
      "\u001b[1m2/2\u001b[0m \u001b[32m━━━━━━━━━━━━━━━━━━━━\u001b[0m\u001b[37m\u001b[0m \u001b[1m0s\u001b[0m 43ms/step - loss: 0.1281 - val_loss: 0.0152\n",
      "Epoch 16/50\n",
      "\u001b[1m2/2\u001b[0m \u001b[32m━━━━━━━━━━━━━━━━━━━━\u001b[0m\u001b[37m\u001b[0m \u001b[1m0s\u001b[0m 44ms/step - loss: 0.0892 - val_loss: 0.0147\n",
      "Epoch 17/50\n",
      "\u001b[1m2/2\u001b[0m \u001b[32m━━━━━━━━━━━━━━━━━━━━\u001b[0m\u001b[37m\u001b[0m \u001b[1m0s\u001b[0m 34ms/step - loss: 0.1332 - val_loss: 0.0145\n",
      "Epoch 18/50\n",
      "\u001b[1m2/2\u001b[0m \u001b[32m━━━━━━━━━━━━━━━━━━━━\u001b[0m\u001b[37m\u001b[0m \u001b[1m0s\u001b[0m 41ms/step - loss: 0.1518 - val_loss: 0.0149\n",
      "Epoch 19/50\n",
      "\u001b[1m2/2\u001b[0m \u001b[32m━━━━━━━━━━━━━━━━━━━━\u001b[0m\u001b[37m\u001b[0m \u001b[1m0s\u001b[0m 35ms/step - loss: 0.1095 - val_loss: 0.0162\n",
      "Epoch 20/50\n",
      "\u001b[1m2/2\u001b[0m \u001b[32m━━━━━━━━━━━━━━━━━━━━\u001b[0m\u001b[37m\u001b[0m \u001b[1m0s\u001b[0m 36ms/step - loss: 0.1163 - val_loss: 0.0191\n",
      "Epoch 21/50\n",
      "\u001b[1m2/2\u001b[0m \u001b[32m━━━━━━━━━━━━━━━━━━━━\u001b[0m\u001b[37m\u001b[0m \u001b[1m0s\u001b[0m 40ms/step - loss: 0.0754 - val_loss: 0.0231\n",
      "Epoch 22/50\n",
      "\u001b[1m2/2\u001b[0m \u001b[32m━━━━━━━━━━━━━━━━━━━━\u001b[0m\u001b[37m\u001b[0m \u001b[1m0s\u001b[0m 28ms/step - loss: 0.0672 - val_loss: 0.0266\n",
      "Epoch 23/50\n",
      "\u001b[1m2/2\u001b[0m \u001b[32m━━━━━━━━━━━━━━━━━━━━\u001b[0m\u001b[37m\u001b[0m \u001b[1m0s\u001b[0m 42ms/step - loss: 0.0910 - val_loss: 0.0327\n",
      "Epoch 24/50\n",
      "\u001b[1m2/2\u001b[0m \u001b[32m━━━━━━━━━━━━━━━━━━━━\u001b[0m\u001b[37m\u001b[0m \u001b[1m0s\u001b[0m 32ms/step - loss: 0.1198 - val_loss: 0.0416\n",
      "Epoch 25/50\n",
      "\u001b[1m2/2\u001b[0m \u001b[32m━━━━━━━━━━━━━━━━━━━━\u001b[0m\u001b[37m\u001b[0m \u001b[1m0s\u001b[0m 38ms/step - loss: 0.0979 - val_loss: 0.0485\n",
      "Epoch 26/50\n",
      "\u001b[1m2/2\u001b[0m \u001b[32m━━━━━━━━━━━━━━━━━━━━\u001b[0m\u001b[37m\u001b[0m \u001b[1m0s\u001b[0m 35ms/step - loss: 0.0941 - val_loss: 0.0527\n",
      "Epoch 27/50\n",
      "\u001b[1m2/2\u001b[0m \u001b[32m━━━━━━━━━━━━━━━━━━━━\u001b[0m\u001b[37m\u001b[0m \u001b[1m0s\u001b[0m 36ms/step - loss: 0.0940 - val_loss: 0.0554\n",
      "Epoch 28/50\n",
      "\u001b[1m2/2\u001b[0m \u001b[32m━━━━━━━━━━━━━━━━━━━━\u001b[0m\u001b[37m\u001b[0m \u001b[1m0s\u001b[0m 29ms/step - loss: 0.0974 - val_loss: 0.0550\n",
      "Epoch 29/50\n",
      "\u001b[1m2/2\u001b[0m \u001b[32m━━━━━━━━━━━━━━━━━━━━\u001b[0m\u001b[37m\u001b[0m \u001b[1m0s\u001b[0m 37ms/step - loss: 0.0949 - val_loss: 0.0535\n",
      "Epoch 30/50\n",
      "\u001b[1m2/2\u001b[0m \u001b[32m━━━━━━━━━━━━━━━━━━━━\u001b[0m\u001b[37m\u001b[0m \u001b[1m0s\u001b[0m 31ms/step - loss: 0.1017 - val_loss: 0.0513\n",
      "Epoch 31/50\n",
      "\u001b[1m2/2\u001b[0m \u001b[32m━━━━━━━━━━━━━━━━━━━━\u001b[0m\u001b[37m\u001b[0m \u001b[1m0s\u001b[0m 34ms/step - loss: 0.0959 - val_loss: 0.0488\n",
      "Epoch 32/50\n",
      "\u001b[1m2/2\u001b[0m \u001b[32m━━━━━━━━━━━━━━━━━━━━\u001b[0m\u001b[37m\u001b[0m \u001b[1m0s\u001b[0m 35ms/step - loss: 0.0957 - val_loss: 0.0449\n",
      "Epoch 33/50\n",
      "\u001b[1m2/2\u001b[0m \u001b[32m━━━━━━━━━━━━━━━━━━━━\u001b[0m\u001b[37m\u001b[0m \u001b[1m0s\u001b[0m 34ms/step - loss: 0.0862 - val_loss: 0.0394\n",
      "Epoch 34/50\n",
      "\u001b[1m2/2\u001b[0m \u001b[32m━━━━━━━━━━━━━━━━━━━━\u001b[0m\u001b[37m\u001b[0m \u001b[1m0s\u001b[0m 34ms/step - loss: 0.1142 - val_loss: 0.0353\n",
      "Epoch 35/50\n",
      "\u001b[1m2/2\u001b[0m \u001b[32m━━━━━━━━━━━━━━━━━━━━\u001b[0m\u001b[37m\u001b[0m \u001b[1m0s\u001b[0m 36ms/step - loss: 0.0807 - val_loss: 0.0314\n",
      "Epoch 36/50\n",
      "\u001b[1m2/2\u001b[0m \u001b[32m━━━━━━━━━━━━━━━━━━━━\u001b[0m\u001b[37m\u001b[0m \u001b[1m0s\u001b[0m 44ms/step - loss: 0.0928 - val_loss: 0.0267\n",
      "Epoch 37/50\n",
      "\u001b[1m2/2\u001b[0m \u001b[32m━━━━━━━━━━━━━━━━━━━━\u001b[0m\u001b[37m\u001b[0m \u001b[1m0s\u001b[0m 41ms/step - loss: 0.0656 - val_loss: 0.0218\n",
      "Epoch 38/50\n",
      "\u001b[1m2/2\u001b[0m \u001b[32m━━━━━━━━━━━━━━━━━━━━\u001b[0m\u001b[37m\u001b[0m \u001b[1m0s\u001b[0m 36ms/step - loss: 0.0854 - val_loss: 0.0171\n",
      "Epoch 39/50\n",
      "\u001b[1m2/2\u001b[0m \u001b[32m━━━━━━━━━━━━━━━━━━━━\u001b[0m\u001b[37m\u001b[0m \u001b[1m0s\u001b[0m 34ms/step - loss: 0.0959 - val_loss: 0.0138\n",
      "Epoch 40/50\n",
      "\u001b[1m2/2\u001b[0m \u001b[32m━━━━━━━━━━━━━━━━━━━━\u001b[0m\u001b[37m\u001b[0m \u001b[1m0s\u001b[0m 47ms/step - loss: 0.1364 - val_loss: 0.0122\n",
      "Epoch 41/50\n",
      "\u001b[1m2/2\u001b[0m \u001b[32m━━━━━━━━━━━━━━━━━━━━\u001b[0m\u001b[37m\u001b[0m \u001b[1m0s\u001b[0m 33ms/step - loss: 0.0974 - val_loss: 0.0114\n",
      "Epoch 42/50\n",
      "\u001b[1m2/2\u001b[0m \u001b[32m━━━━━━━━━━━━━━━━━━━━\u001b[0m\u001b[37m\u001b[0m \u001b[1m0s\u001b[0m 34ms/step - loss: 0.0615 - val_loss: 0.0105\n",
      "Epoch 43/50\n",
      "\u001b[1m2/2\u001b[0m \u001b[32m━━━━━━━━━━━━━━━━━━━━\u001b[0m\u001b[37m\u001b[0m \u001b[1m0s\u001b[0m 27ms/step - loss: 0.0850 - val_loss: 0.0100\n",
      "Epoch 44/50\n",
      "\u001b[1m2/2\u001b[0m \u001b[32m━━━━━━━━━━━━━━━━━━━━\u001b[0m\u001b[37m\u001b[0m \u001b[1m0s\u001b[0m 35ms/step - loss: 0.0787 - val_loss: 0.0095\n",
      "Epoch 45/50\n",
      "\u001b[1m2/2\u001b[0m \u001b[32m━━━━━━━━━━━━━━━━━━━━\u001b[0m\u001b[37m\u001b[0m \u001b[1m0s\u001b[0m 30ms/step - loss: 0.0774 - val_loss: 0.0098\n",
      "Epoch 46/50\n",
      "\u001b[1m2/2\u001b[0m \u001b[32m━━━━━━━━━━━━━━━━━━━━\u001b[0m\u001b[37m\u001b[0m \u001b[1m0s\u001b[0m 41ms/step - loss: 0.0806 - val_loss: 0.0114\n",
      "Epoch 47/50\n",
      "\u001b[1m2/2\u001b[0m \u001b[32m━━━━━━━━━━━━━━━━━━━━\u001b[0m\u001b[37m\u001b[0m \u001b[1m0s\u001b[0m 33ms/step - loss: 0.0999 - val_loss: 0.0140\n",
      "Epoch 48/50\n",
      "\u001b[1m2/2\u001b[0m \u001b[32m━━━━━━━━━━━━━━━━━━━━\u001b[0m\u001b[37m\u001b[0m \u001b[1m0s\u001b[0m 30ms/step - loss: 0.0486 - val_loss: 0.0167\n",
      "Epoch 49/50\n",
      "\u001b[1m2/2\u001b[0m \u001b[32m━━━━━━━━━━━━━━━━━━━━\u001b[0m\u001b[37m\u001b[0m \u001b[1m0s\u001b[0m 34ms/step - loss: 0.0548 - val_loss: 0.0200\n",
      "Epoch 50/50\n",
      "\u001b[1m2/2\u001b[0m \u001b[32m━━━━━━━━━━━━━━━━━━━━\u001b[0m\u001b[37m\u001b[0m \u001b[1m0s\u001b[0m 40ms/step - loss: 0.0682 - val_loss: 0.0243\n",
      "\u001b[1m1/1\u001b[0m \u001b[32m━━━━━━━━━━━━━━━━━━━━\u001b[0m\u001b[37m\u001b[0m \u001b[1m0s\u001b[0m 30ms/step - loss: 0.0432\n",
      "Test Loss: 0.04324112460017204\n"
     ]
    }
   ],
   "source": [
    "from tensorflow.keras.models import Sequential\n",
    "from tensorflow.keras.layers import Dense, Dropout\n",
    "from tensorflow.keras.optimizers import Adam\n",
    "\n",
    "X_train = pd.read_csv(r'datasets/train.csv')\n",
    "X_val = pd.read_csv(r'datasets/val.csv')\n",
    "X_test = pd.read_csv(r'datasets/test.csv')\n",
    "y_train = pd.read_csv(r'datasets/y_train.csv')\n",
    "y_val = pd.read_csv(r'datasets/y_val.csv')\n",
    "y_test = pd.read_csv(r'datasets/y_test.csv')\n",
    "\n",
    "model = Sequential()\n",
    "\n",
    "# Input layer and first hidden layer\n",
    "model.add(Dense(64, input_dim=X_train.shape[1], activation='relu'))\n",
    "model.add(Dropout(0.2))\n",
    "\n",
    "# Second hidden layer\n",
    "model.add(Dense(32, activation='relu'))\n",
    "model.add(Dropout(0.2))\n",
    "\n",
    "# Third hidden layer (optional)\n",
    "model.add(Dense(16, activation='relu'))\n",
    "model.add(Dropout(0.2))\n",
    "\n",
    "# Output layer\n",
    "model.add(Dense(1, activation='linear'))\n",
    "\n",
    "# Compile the model\n",
    "model.compile(optimizer=Adam(learning_rate=0.001), loss='mse')\n",
    "\n",
    "model.summary()\n",
    "\n",
    "# Train the model\n",
    "history = model.fit(X_train, y_train, validation_data=(X_val, y_val), epochs=50, batch_size=32)\n",
    "\n",
    "# Evaluate the model\n",
    "test_loss= model.evaluate(X_test, y_test)\n",
    "print(f'Test Loss: {test_loss}')\n"
   ]
  },
  {
   "cell_type": "code",
   "execution_count": 80,
   "metadata": {},
   "outputs": [
    {
     "data": {
      "image/png": "[encoded data removed]",
      "text/plain": [
       "<Figure size 1200x400 with 1 Axes>"
      ]
     },
     "metadata": {},
     "output_type": "display_data"
    }
   ],
   "source": [
    "import matplotlib.pyplot as plt\n",
    "\n",
    "# Plot training & validation loss values\n",
    "plt.figure(figsize=(12, 4))\n",
    "\n",
    "plt.subplot(1, 2, 1)\n",
    "plt.plot(history.history['loss'])\n",
    "plt.plot(history.history['val_loss'])\n",
    "plt.title('Model Loss')\n",
    "plt.xlabel('Epoch')\n",
    "plt.ylabel('Loss')\n",
    "plt.legend(['Train', 'Validation'], loc='upper right')\n",
    "\n",
    "plt.tight_layout()\n",
    "plt.show()"
   ]
  },
  {
   "cell_type": "code",
   "execution_count": 73,
   "metadata": {},
   "outputs": [],
   "source": [
    "model.save('models/multiper-L043-complex-001.keras')"
   ]
  }
 ],
 "metadata": {
  "kernelspec": {
   "display_name": ".pave",
   "language": "python",
   "name": "python3"
  },
  "language_info": {
   "codemirror_mode": {
    "name": "ipython",
    "version": 3
   },
   "file_extension": ".py",
   "mimetype": "text/x-python",
   "name": "python",
   "nbconvert_exporter": "python",
   "pygments_lexer": "ipython3",
   "version": "3.12.4"
  }
 },
 "nbformat": 4,
 "nbformat_minor": 2
}
